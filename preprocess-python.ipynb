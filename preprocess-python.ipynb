{
 "cells": [
  {
   "cell_type": "code",
   "execution_count": 1,
   "id": "7fb1f58b",
   "metadata": {},
   "outputs": [],
   "source": [
    "import numpy as np\n",
    "import cv2\n",
    "import pickle\n",
    "import os\n",
    "from PIL import Image\n",
    "import time\n",
    "import copy\n",
    "from core.util import load_pkl, write_pkl\n",
    "from core.util.ReSample import resize\n",
    "\n",
    "class toFile:\n",
    "    def __init__(self, folder, n_images_per_file, suffix):\n",
    "        self.folder = folder\n",
    "        self.n_images_per_file = n_images_per_file\n",
    "        self.ct = 0\n",
    "        self.cache = []\n",
    "        self.suffix = suffix\n",
    "    \n",
    "    def tofile(self, X):\n",
    "        a = self.ct\n",
    "        if len(self.cache) > 0:\n",
    "            X = np.concatenate([self.cache, X], axis=0)\n",
    "            self.cache = []\n",
    "        for i in range(0, X.shape[0], self.n_images_per_file):\n",
    "            if len(X[i:i+self.n_images_per_file]) != self.n_images_per_file:\n",
    "                self.cache = X[i:i+self.n_images_per_file]\n",
    "                break\n",
    "            write_pkl(self.folder+'/'+str(self.ct)+'.'+self.suffix, X[i:i+self.n_images_per_file])\n",
    "            self.ct += 1\n",
    "#         print('<INFO> write %d files, current total files %d, %d images in buffer'%(self.ct-a, self.ct, len(self.cache)))\n",
    "        return True\n"
   ]
  },
  {
   "cell_type": "code",
   "execution_count": 2,
   "id": "b0791045",
   "metadata": {},
   "outputs": [],
   "source": [
    "class PreProcess():\n",
    "    def __init__(self, output_folder, n_images_per_file=1000, suffix='spatial_raw', size_list=[8,16,32,64,128,256], stride=123, downsample_level=3):\n",
    "        self.g_count = 0\n",
    "        self.output_folder = output_folder\n",
    "        self.size_list = size_list\n",
    "        self.n_images_per_file = n_images_per_file\n",
    "        # output folder has a series subfolder 8/16/32/64/128/256\n",
    "        os.system('mkdir '+self.output_folder)\n",
    "        self.tofile = []\n",
    "        for i in size_list:\n",
    "            os.system('mkdir '+self.output_folder+'/'+str(i))\n",
    "            self.tofile.append(toFile(self.output_folder+'/'+str(i)+'/', n_images_per_file, suffix))\n",
    "        self.stride = stride\n",
    "        self.downsample_level = downsample_level\n",
    "    \n",
    "    def patch_to_file(self, patch):\n",
    "        for i in range(len(self.size_list)):\n",
    "            patch = resize(patch, self.size_list[i])\n",
    "            flag = self.tofile[i].tofile(patch)\n",
    "            if flag == False:\n",
    "                return \n",
    "#             flag = cv2.imwrite(self.output_folder+'/'+str(i)+'/'+str(self.g_count)+'.png', patch[0])\n",
    "        self.g_count += 1\n",
    "        \n",
    "    def crop_image(self, x):\n",
    "        for i in range(0, x.shape[0], self.stride):\n",
    "            for j in range(0, x.shape[1], self.stride):\n",
    "                patch = x[i:i+256, j:j+256]\n",
    "                if patch.shape[0] == 256 and patch.shape[1] == 256:\n",
    "                    self.patch_to_file(patch.reshape(1, patch.shape[0], patch.shape[1], -1))\n",
    "\n",
    "    \n",
    "    def process_folder(self, folder):\n",
    "        init_count, t0 = self.g_count, time.time()\n",
    "        files = os.listdir(folder)\n",
    "        for file in files:\n",
    "            try:\n",
    "                x = cv2.imread(folder+'/'+file)\n",
    "                x.shape\n",
    "            except:\n",
    "                continue\n",
    "            x = x.reshape(1, x.shape[0], x.shape[1], -1)\n",
    "            for level in range(self.downsample_level+1):\n",
    "                self.crop_image(x[0])\n",
    "                x = resize(x, x.shape[1]//2)\n",
    "        print('Processed folder=%s, get %d images using %f sec, total images=%d'\n",
    "                  %(folder, self.g_count-init_count, time.time()-t0, self.g_count))\n",
    "        "
   ]
  },
  {
   "cell_type": "code",
   "execution_count": 3,
   "id": "3a17bc6d",
   "metadata": {},
   "outputs": [],
   "source": [
    "pp = PreProcess(output_folder='/Users/alex/Desktop//unit/data/', n_images_per_file=100, stride=256, downsample_level=0) "
   ]
  },
  {
   "cell_type": "code",
   "execution_count": 4,
   "id": "ea4e2c78",
   "metadata": {},
   "outputs": [
    {
     "name": "stdout",
     "output_type": "stream",
     "text": [
      "Processed folder=/Users/alex/Desktop/proj/data/train256/, get 1427 images using 16.424568 sec, total images=1427\n"
     ]
    }
   ],
   "source": [
    "pp.process_folder('/Users/alex/Desktop/proj/data/train256/')"
   ]
  },
  {
   "cell_type": "code",
   "execution_count": 5,
   "id": "8db85759",
   "metadata": {},
   "outputs": [
    {
     "data": {
      "text/plain": [
       "12.0"
      ]
     },
     "execution_count": 5,
     "metadata": {},
     "output_type": "execute_result"
    }
   ],
   "source": [
    "4*0.75/0.25\n"
   ]
  },
  {
   "cell_type": "code",
   "execution_count": null,
   "id": "ec04f0d2",
   "metadata": {},
   "outputs": [],
   "source": []
  }
 ],
 "metadata": {
  "kernelspec": {
   "display_name": "Python 3 (ipykernel)",
   "language": "python",
   "name": "python3"
  },
  "language_info": {
   "codemirror_mode": {
    "name": "ipython",
    "version": 3
   },
   "file_extension": ".py",
   "mimetype": "text/x-python",
   "name": "python",
   "nbconvert_exporter": "python",
   "pygments_lexer": "ipython3",
   "version": "3.9.6"
  }
 },
 "nbformat": 4,
 "nbformat_minor": 5
}
